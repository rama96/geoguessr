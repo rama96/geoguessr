{
 "cells": [
  {
   "cell_type": "code",
   "execution_count": null,
   "metadata": {},
   "outputs": [],
   "source": [
    "import pandas as pd\n",
    "from datasets import load_dataset , list_datasets\n",
    "datasets = load_dataset('stochastic/random_streetview_images_pano_v0.0.2')\n",
    "datasets"
   ]
  },
  {
   "cell_type": "code",
   "execution_count": null,
   "metadata": {},
   "outputs": [],
   "source": []
  }
 ],
 "metadata": {
  "kernelspec": {
   "display_name": "env",
   "language": "python",
   "name": "python3"
  },
  "language_info": {
   "name": "python",
   "version": "3.8.16"
  },
  "orig_nbformat": 4,
  "vscode": {
   "interpreter": {
    "hash": "5ac09849cd3c80a5c957d48d3b0762b29c831c0de9d30762a8f46d555eec3d28"
   }
  }
 },
 "nbformat": 4,
 "nbformat_minor": 2
}
